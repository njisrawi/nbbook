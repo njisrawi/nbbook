{
 "cells": [
  {
   "cell_type": "markdown",
   "metadata": {},
   "source": [
    "* [Part One](notebook_one.ipynb#Part-One)\n",
    "  * [Chapter One](notebook_one.ipynb#Chapter-One)\n",
    "* [Part Two](notebook_one.ipynb#Part-Two)\n",
    "  * [Chapter One](notebook_one.ipynb#Chapter-One)\n",
    "  * [Chapter Two](notebook_one.ipynb#Chapter-Two)\n",
    "* [Part Three](notebook_two.ipynb#Part-Three)\n",
    "  * [Chapter One](notebook_two.ipynb#Chapter-One)\n",
    "  * [Chapter Two](notebook_two.ipynb#Chapter-Two)\n",
    "* [Conclusion](notebook_two.ipynb#Conclusion)"
   ]
  }
 ],
 "metadata": {},
 "nbformat": 4,
 "nbformat_minor": 2
}
