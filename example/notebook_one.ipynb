{
 "cells": [
  {
   "cell_type": "markdown",
   "metadata": {},
   "source": [
    "# Part One\n",
    "\n",
    "dolor sit amet, consectetur adipiscing elit. Curabitur imperdiet dui at pharetra cursus. Vestibulum at augue sed nisl aliquet tempus. Proin gravida maximus neque, sagittis ullamcorper est scelerisque eu. Sed rutrum ultrices ipsum eu dictum. Vestibulum a dolor leo. Vestibulum tempor faucibus laoreet. Vivamus eleifend maximus pellentesque. Pellentesque in molestie sem, sit amet sodales massa. Cras eleifend lacus justo, vel imperdiet turpis bibendum sit amet. Duis sit amet felis eu lacus sodales porttitor. Donec bibendum aliquam mauris eget ultricies.\n",
    "\n",
    "## Chapter One\n",
    " placerat est dignissim imperdiet ut vitae augue. Duis ac ligula eget velit fermentum efficitur. Praesent magna velit, pulvinar eu elementum interdum, feugiat ac diam. Morbi quis mauris sed mauris condimentum vulputate. Sed non dui sed tortor lobortis volutpat. Donec vestibulum arcu velit, eget consequat elit bibendum ac. Phasellus ut volutpat ex, sed accumsan lorem. Class aptent taciti sociosqu ad litora torquent per conubia nostra, per inceptos himenaeos. Ut a odio sed urna euismod semper. Aenean condimentum aliquam sapien id finibus. Cras non enim ligula. Sed scelerisque at orci et efficitur. Sed faucibus lorem faucibus condimentum convallis. Phasellus tincidunt a turpis a tincidunt. Vivamus vel nibh fringilla, fermentum diam eget, vestibulum risus."
   ]
  },
  {
   "cell_type": "markdown",
   "metadata": {},
   "source": [
    "# Part Two\n",
    "\n",
    "## Chapter One\n",
    "Nulla sit amet neque nisi. Etiam pulvinar ante quis tristique laoreet. Cras feugiat egestas egestas. Sed tellus neque, imperdiet pretium commodo et, aliquet vel risus. Vestibulum hendrerit imperdiet scelerisque. Fusce dignissim lacus eget elementum posuere. Aliquam at velit eget magna venenatis consectetur. Donec convallis ex libero, eleifend aliquam tortor posuere ac. Fusce eget nunc eu nisi interdum commodo. Maecenas maximus quam eu congue eleifend. Vivamus ut leo faucibus, condimentum dolor vitae, volutpat ligula. Morbi a malesuada orci. Duis blandit euismod justo ut aliquam. Fusce vel mauris imperdiet, mollis nisi ut, aliquet turpis.\n",
    "\n",
    "## Chapter Two\n",
    "Nulla sit amet neque nisi. Etiam pulvinar ante quis tristique laoreet. Cras feugiat egestas egestas. Sed tellus neque, imperdiet pretium commodo et, aliquet vel risus. Vestibulum hendrerit imperdiet scelerisque. Fusce dignissim lacus eget elementum posuere. Aliquam at velit eget magna venenatis consectetur. Donec convallis ex libero, eleifend aliquam tortor posuere ac. Fusce eget nunc eu nisi interdum commodo. Maecenas maximus quam eu congue eleifend. Vivamus ut leo faucibus, condimentum dolor vitae, volutpat ligula. Morbi a malesuada orci. Duis blandit euismod justo ut aliquam. Fusce vel mauris imperdiet, mollis nisi ut, aliquet turpis."
   ]
  },
  {
   "cell_type": "code",
   "execution_count": 1,
   "metadata": {},
   "outputs": [
    {
     "name": "stdout",
     "output_type": "stream",
     "text": [
      "0\n",
      "1\n",
      "2\n",
      "3\n",
      "4\n"
     ]
    }
   ],
   "source": [
    "# add some code in between..\n",
    "\n",
    "for a in range(5):\n",
    "    print(a)"
   ]
  }
 ],
 "metadata": {
  "kernelspec": {
   "display_name": "Python 3",
   "language": "python",
   "name": "python3"
  },
  "language_info": {
   "codemirror_mode": {
    "name": "ipython",
    "version": 3
   },
   "file_extension": ".py",
   "mimetype": "text/x-python",
   "name": "python",
   "nbconvert_exporter": "python",
   "pygments_lexer": "ipython3",
   "version": "3.6.2"
  },
  "toc": {
   "nav_menu": {},
   "number_sections": true,
   "sideBar": true,
   "skip_h1_title": false,
   "toc_cell": false,
   "toc_position": {},
   "toc_section_display": "block",
   "toc_window_display": false
  }
 },
 "nbformat": 4,
 "nbformat_minor": 2
}
